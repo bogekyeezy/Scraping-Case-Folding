{
 "cells": [
  {
   "cell_type": "code",
   "execution_count": 1,
   "id": "e6b52468",
   "metadata": {},
   "outputs": [],
   "source": [
    "# NAMA  : Arya Firgi Syuhada\n",
    "# NPM   : 5220411354"
   ]
  },
  {
   "cell_type": "code",
   "execution_count": null,
   "id": "0b469266",
   "metadata": {},
   "outputs": [],
   "source": [
    "import os\n",
    "import re\n",
    "import subprocess\n",
    "import pandas as pd\n",
    "import nltk\n",
    "\n",
    "os.environ[\"TWITTER_TOKEN\"] = \"229711540a3513a8c04d79f72d7c7b87d96c8347\"\n",
    "subprocess.run([\"pip\", \"install\", \"pandas\"])\n",
    "try:\n",
    "    subprocess.run([\"node\", \"-v\"], check=True)\n",
    "except:\n",
    "    exit()"
   ]
  },
  {
   "cell_type": "code",
   "execution_count": 3,
   "id": "2d94b079",
   "metadata": {},
   "outputs": [
    {
     "data": {
      "text/plain": [
       "CompletedProcess(args='npx -y tweet-harvest@2.6.1 -o \"FAM_Malaysia.csv\" -s \"FAM Malaysia lang:id\" --tab LATEST -l 1000 --token 229711540a3513a8c04d79f72d7c7b87d96c8347', returncode=0)"
      ]
     },
     "execution_count": 3,
     "metadata": {},
     "output_type": "execute_result"
    }
   ],
   "source": [
    "# === KONFIGURASI SCRAPING ===\n",
    "filename = \"FAM_Malaysia.csv\"\n",
    "search_keyword = \"FAM Malaysia lang:id\"\n",
    "limit = 1000\n",
    "twitter_auth_token = os.getenv(\"TWITTER_TOKEN\")\n",
    "\n",
    "cmd = f'npx -y tweet-harvest@2.6.1 -o \"{filename}\" -s \"{search_keyword}\" --tab LATEST -l {limit} --token {twitter_auth_token}'\n",
    "subprocess.run(cmd, shell=True)"
   ]
  },
  {
   "cell_type": "code",
   "execution_count": 1,
   "id": "c97d517f",
   "metadata": {},
   "outputs": [
    {
     "ename": "NameError",
     "evalue": "name 'pd' is not defined",
     "output_type": "error",
     "traceback": [
      "\u001b[31m---------------------------------------------------------------------------\u001b[39m",
      "\u001b[31mNameError\u001b[39m                                 Traceback (most recent call last)",
      "\u001b[36mCell\u001b[39m\u001b[36m \u001b[39m\u001b[32mIn[1]\u001b[39m\u001b[32m, line 2\u001b[39m\n\u001b[32m      1\u001b[39m \u001b[38;5;66;03m# == CASE FOLDING ==\u001b[39;00m\n\u001b[32m----> \u001b[39m\u001b[32m2\u001b[39m df = \u001b[43mpd\u001b[49m.read_csv(\u001b[33mr\u001b[39m\u001b[33m'\u001b[39m\u001b[33mD:\u001b[39m\u001b[33m\\\u001b[39m\u001b[33mbgx\u001b[39m\u001b[33m\\\u001b[39m\u001b[33mPemrosesan Teks\u001b[39m\u001b[33m\\\u001b[39m\u001b[33mScraping_CaseFolding\u001b[39m\u001b[33m\\\u001b[39m\u001b[33mtweets-data\u001b[39m\u001b[33m\\\u001b[39m\u001b[33mFAM_Malaysia.csv\u001b[39m\u001b[33m'\u001b[39m)\n\u001b[32m      3\u001b[39m \u001b[38;5;28;01mif\u001b[39;00m \u001b[33m\"\u001b[39m\u001b[33mfull_text\u001b[39m\u001b[33m\"\u001b[39m \u001b[38;5;129;01min\u001b[39;00m df.columns:\n\u001b[32m      4\u001b[39m     df[\u001b[33m\"\u001b[39m\u001b[33mtext_casefolded\u001b[39m\u001b[33m\"\u001b[39m] = df[\u001b[33m\"\u001b[39m\u001b[33mfull_text\u001b[39m\u001b[33m\"\u001b[39m].astype(\u001b[38;5;28mstr\u001b[39m).str.lower()\n",
      "\u001b[31mNameError\u001b[39m: name 'pd' is not defined"
     ]
    }
   ],
   "source": [
    "# == CASE FOLDING ==\n",
    "df = pd.read_csv(r'D:\\bgx\\Pemrosesan Teks\\Scraping_CaseFolding\\tweets-data\\FAM_Malaysia.csv')\n",
    "if \"full_text\" in df.columns:\n",
    "    df[\"text_casefolded\"] = df[\"full_text\"].astype(str).str.lower()\n",
    "    df.to_csv('FAM_Malaysia_casefolded.csv', index=False)\n",
    "    print(f\"Scraping selesai\")\n",
    "else:\n",
    "    print(\"kolom 'full_text' tidak ditemukan dalam hasil scraping.\")\n"
   ]
  },
  {
   "cell_type": "code",
   "execution_count": 2,
   "id": "6e62f5f1",
   "metadata": {},
   "outputs": [
    {
     "name": "stderr",
     "output_type": "stream",
     "text": [
      "[nltk_data] Downloading package stopwords to\n",
      "[nltk_data]     C:\\Users\\Lenovo\\AppData\\Roaming\\nltk_data...\n",
      "[nltk_data]   Package stopwords is already up-to-date!\n",
      "[nltk_data] Downloading package punkt_tab to\n",
      "[nltk_data]     C:\\Users\\Lenovo\\AppData\\Roaming\\nltk_data...\n",
      "[nltk_data]   Package punkt_tab is already up-to-date!\n"
     ]
    }
   ],
   "source": [
    "# == Text Preprocessing ==\n",
    "import os\n",
    "import re\n",
    "import subprocess\n",
    "import pandas as pd\n",
    "import nltk\n",
    "nltk.download('stopwords')\n",
    "nltk.download('punkt_tab')\n",
    "from nltk.corpus import stopwords\n",
    "from nltk.tokenize import word_tokenize"
   ]
  },
  {
   "cell_type": "code",
   "execution_count": 4,
   "id": "5940686c",
   "metadata": {},
   "outputs": [
    {
     "name": "stdout",
     "output_type": "stream",
     "text": [
      "Scraping selesai\n"
     ]
    }
   ],
   "source": [
    "\n",
    "df = pd.read_csv(r'D:\\bgx\\Pemrosesan Teks\\Scraping_CaseFolding\\FAM_Malaysia_casefolded.csv')\n",
    "\n",
    "# 1. Text Filtering / Stopwords REemoval\n",
    "stop_words = set(stopwords.words('indonesian'))\n",
    "data_cleaned = []\n",
    "filtered_data = []\n",
    "\n",
    "for kalimat in df['text_casefolded']:\n",
    "    text = re.sub(r'[^a-zA-Z\\s]', '', kalimat.lower())\n",
    "    filtered = [w for w in text.split() if w not in stopwords.words('indonesian')]\n",
    "    filtered_data.append(filtered)\n",
    "    data_cleaned.append(text)\n",
    "\n",
    "df[\"stopwords_removal\"] = data_cleaned\n",
    "df.to_csv('FAM_Malaysia_StopwordsRemoval.csv', index=False)\n",
    "print(f\"Scraping selesai\")\n",
    "\n",
    "# if \"text_casefolded\" in df.columns:\n",
    "#     df[\"stopwords_removal\"] = data_cleaned\n",
    "#     df.to_csv('FAM_Malaysia_StopwordsRemoval.csv', index=False)\n",
    "#     print(f\"Scraping selesai\")\n",
    "# else:\n",
    "#     print(\"kolom 'full_text' tidak ditemukan dalam hasil scraping.\")\n"
   ]
  },
  {
   "cell_type": "code",
   "execution_count": 5,
   "id": "43d59686",
   "metadata": {},
   "outputs": [],
   "source": [
    "# 2. Tokenizing\n",
    "\n",
    "df = pd.read_csv(r'D:\\bgx\\Pemrosesan Teks\\Scraping_CaseFolding\\FAM_Malaysia_StopwordsRemoval.csv')\n",
    "\n",
    "tokenize_text = []\n",
    "for kalimat in df['stopwords_removal']:\n",
    "    token = word_tokenize(kalimat.lower())\n",
    "    tokenize_text.append(token)\n",
    "\n",
    "df['tokenize_text'] = tokenize_text\n",
    "df.to_csv('FAM_Malaysia_Tokenize.csv', index=False)\n"
   ]
  },
  {
   "cell_type": "code",
   "execution_count": 18,
   "id": "b82adc68",
   "metadata": {},
   "outputs": [],
   "source": [
    "# 3. Stemming\n",
    "from Sastrawi.Stemmer.StemmerFactory import StemmerFactory\n",
    "df = pd.read_csv(r'D:\\bgx\\Pemrosesan Teks\\Scraping_CaseFolding\\FAM_Malaysia_Tokenize.csv')\n",
    "\n",
    "stemmer = StemmerFactory()\n",
    "sf = stemmer.create_stemmer()\n",
    "stemmed_text = []\n",
    "for i in range(len(df)):\n",
    "    word = str(df.loc[i,    'tokenize_text'])\n",
    "    stemming = sf.stem(word)\n",
    "    results = stemmed_text.append(stemming)\n",
    "    df['stemmed_text'] = results\n",
    "\n",
    "df['stemmed_text'] = stemmed_text\n",
    "df.to_csv('FAM_Malaysia_Stemmed.csv', index=False)\n"
   ]
  }
 ],
 "metadata": {
  "kernelspec": {
   "display_name": "Python 3",
   "language": "python",
   "name": "python3"
  },
  "language_info": {
   "codemirror_mode": {
    "name": "ipython",
    "version": 3
   },
   "file_extension": ".py",
   "mimetype": "text/x-python",
   "name": "python",
   "nbconvert_exporter": "python",
   "pygments_lexer": "ipython3",
   "version": "3.13.7"
  }
 },
 "nbformat": 4,
 "nbformat_minor": 5
}
