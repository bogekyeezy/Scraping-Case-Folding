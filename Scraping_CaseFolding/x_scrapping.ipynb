{
 "cells": [
  {
   "cell_type": "code",
   "execution_count": 1,
   "id": "e6b52468",
   "metadata": {},
   "outputs": [],
   "source": [
    "# NAMA  : Arya Firgi Syuhada\n",
    "# NPM   : 5220411354"
   ]
  },
  {
   "cell_type": "code",
   "execution_count": 2,
   "id": "0b469266",
   "metadata": {},
   "outputs": [],
   "source": [
    "import os\n",
    "import subprocess\n",
    "import pandas as pd\n",
    "\n",
    "os.environ[\"TWITTER_TOKEN\"] = \"229711540a3513a8c04d79f72d7c7b87d96c8347\"\n",
    "subprocess.run([\"pip\", \"install\", \"pandas\"])\n",
    "try:\n",
    "    subprocess.run([\"node\", \"-v\"], check=True)\n",
    "except:\n",
    "    exit()"
   ]
  },
  {
   "cell_type": "code",
   "execution_count": 3,
   "id": "2d94b079",
   "metadata": {},
   "outputs": [
    {
     "data": {
      "text/plain": [
       "CompletedProcess(args='npx -y tweet-harvest@2.6.1 -o \"FAM_Malaysia.csv\" -s \"FAM Malaysia lang:id\" --tab LATEST -l 1000 --token 229711540a3513a8c04d79f72d7c7b87d96c8347', returncode=0)"
      ]
     },
     "execution_count": 3,
     "metadata": {},
     "output_type": "execute_result"
    }
   ],
   "source": [
    "# === KONFIGURASI SCRAPING ===\n",
    "filename = \"FAM_Malaysia.csv\"\n",
    "search_keyword = \"FAM Malaysia lang:id\"\n",
    "limit = 1000\n",
    "twitter_auth_token = os.getenv(\"TWITTER_TOKEN\")\n",
    "\n",
    "cmd = f'npx -y tweet-harvest@2.6.1 -o \"{filename}\" -s \"{search_keyword}\" --tab LATEST -l {limit} --token {twitter_auth_token}'\n",
    "subprocess.run(cmd, shell=True)"
   ]
  },
  {
   "cell_type": "code",
   "execution_count": 5,
   "id": "c97d517f",
   "metadata": {},
   "outputs": [
    {
     "name": "stdout",
     "output_type": "stream",
     "text": [
      "Scraping selesai\n"
     ]
    }
   ],
   "source": [
    "# == CASE FOLDING ==\n",
    "df = pd.read_csv(r'D:\\bgx\\Pemrosesan Teks\\Scraping_CaseFolding\\tweets-data\\FAM_Malaysia.csv')\n",
    "if \"full_text\" in df.columns:\n",
    "    df[\"text_casefolded\"] = df[\"full_text\"].astype(str).str.lower()\n",
    "    df.to_csv('FAM_Malaysia_casefolded.csv', index=False)\n",
    "    print(f\"Scraping selesai\")\n",
    "else:\n",
    "    print(\"kolom 'full_text' tidak ditemukan dalam hasil scraping.\")\n"
   ]
  }
 ],
 "metadata": {
  "kernelspec": {
   "display_name": "Python 3",
   "language": "python",
   "name": "python3"
  },
  "language_info": {
   "codemirror_mode": {
    "name": "ipython",
    "version": 3
   },
   "file_extension": ".py",
   "mimetype": "text/x-python",
   "name": "python",
   "nbconvert_exporter": "python",
   "pygments_lexer": "ipython3",
   "version": "3.13.7"
  }
 },
 "nbformat": 4,
 "nbformat_minor": 5
}
